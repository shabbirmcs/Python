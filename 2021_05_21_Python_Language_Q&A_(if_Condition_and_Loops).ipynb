{
  "nbformat": 4,
  "nbformat_minor": 0,
  "metadata": {
    "colab": {
      "name": "2021-05-21 Python Language Q&A (if Condition and Loops).ipynb",
      "provenance": [],
      "authorship_tag": "ABX9TyN1YxHT8tqt5laLHcrDue8N",
      "include_colab_link": true
    },
    "kernelspec": {
      "name": "python3",
      "display_name": "Python 3"
    },
    "language_info": {
      "name": "python"
    }
  },
  "cells": [
    {
      "cell_type": "markdown",
      "metadata": {
        "id": "view-in-github",
        "colab_type": "text"
      },
      "source": [
        "<a href=\"https://colab.research.google.com/github/shabbirmcs/Python/blob/main/2021_05_21_Python_Language_Q%26A_(if_Condition_and_Loops).ipynb\" target=\"_parent\"><img src=\"https://colab.research.google.com/assets/colab-badge.svg\" alt=\"Open In Colab\"/></a>"
      ]
    },
    {
      "cell_type": "markdown",
      "metadata": {
        "id": "pQES_7l_nh5W"
      },
      "source": [
        "#**Python Language**\n",
        "#Questions for Revision\n",
        "\n",
        "**Q01.** What is branching in programming languages?\n",
        "\n",
        "**Ans.** A branch is a set of instructions in a computer program that will be executed in a sequence. For example: A branch under if statement or else statement etc. \n",
        "\n",
        "**Q02.** What is the purpose of the if statement in Python?\n",
        "**Ans.** The if statement in Python Language is used to check the condition and based on the result of the condition a branch of code will be executed or ignored.\n",
        "\n",
        "**Q03.** What is the syntax of the if statement? Give an example.\n",
        "\n",
        "**Ans.** \n",
        "\n",
        "    If CONDITION:\n",
        "    \tStatement 01\n",
        "    \tStatement 02\n",
        "\n",
        "**Prgram Example is as fofllows:**\n"
      ]
    },
    {
      "cell_type": "code",
      "metadata": {
        "colab": {
          "base_uri": "https://localhost:8080/"
        },
        "id": "K7iXXc5Rn2d8",
        "outputId": "da452eaf-d640-418a-9758-0e870d93e324"
      },
      "source": [
        "age=input(\"Enter Your Age => \")\n",
        "age=int(age)\n",
        "if age>=18:\n",
        " print(\"You are Eligible for Vote\")\n",
        "else:\n",
        " print(\"You are not Eligible for Vote\") "
      ],
      "execution_count": null,
      "outputs": [
        {
          "output_type": "stream",
          "text": [
            "Enter Your Age => 42\n",
            "You are Eligible for Vote\n"
          ],
          "name": "stdout"
        }
      ]
    },
    {
      "cell_type": "markdown",
      "metadata": {
        "id": "kudQ53SeonWU"
      },
      "source": [
        "**Q04.** What is indentation? Why is it used?\n",
        "\n",
        "**Ans.** Generally Indentation refers to the number of spaces at the beginning of a code line (mostly TAB key is used to specify these spaces). Where in other programming languages the indentation in code is for readability only, the indentation in Python is very important. Python uses indentation to indicate a block of code.\n",
        "\n",
        "Most of the programming languages like C, C++ and Java use curly braces { } to define a block of code. Python, however, uses indentation by using a colon at the end of the statement and all the statements will be considered part of the code block unless going back to the previous code block by pressing the backspace button from the keyboard. \n",
        "\n",
        "A code block (body of a function, loop, etc.) starts with indentation and ends with the first unindented line. The amount of indentation is up to you, but it must be consistent throughout that block.\n",
        "Generally, four whitespaces are used for indentation and are preferred over tabs. \n",
        "\n",
        "Here is an example.\n"
      ]
    },
    {
      "cell_type": "code",
      "metadata": {
        "colab": {
          "base_uri": "https://localhost:8080/"
        },
        "id": "GA5rJqzUozAz",
        "outputId": "549d393e-637f-42f2-bf1b-8d2d8c34edec"
      },
      "source": [
        "age=input(\"Enter Your Age => \")\n",
        "age=int(age)\n",
        "if age>=18:\n",
        " print(\"Congratulations!!!\")\n",
        " print(\"You are Eligible for Vote\")\n",
        " print(\"Now you can use the power of your Vote\")\n",
        "else:\n",
        " print(\"You are not Eligible for Vote\")"
      ],
      "execution_count": null,
      "outputs": [
        {
          "output_type": "stream",
          "text": [
            "Enter Your Age => 19\n",
            "Congratulations!!!\n",
            "You are Eligible for Vote\n",
            "Now you can use the power of your Vote\n"
          ],
          "name": "stdout"
        }
      ]
    },
    {
      "cell_type": "markdown",
      "metadata": {
        "id": "7-vLxz0Ko59a"
      },
      "source": [
        "**Q05.** What is an indented block of statements?\n",
        "\n",
        "**Ans.** An indented block of statements is a block of statements which will be executed or not executed based on the condition mentioned in the if, elif, for, while loop statements. "
      ]
    },
    {
      "cell_type": "code",
      "metadata": {
        "colab": {
          "base_uri": "https://localhost:8080/"
        },
        "id": "EgOujLjOo2cD",
        "outputId": "14135a0c-dde8-4ea3-af07-b4533823d753"
      },
      "source": [
        "cost=input(\"Enter Cost Price of your Product=> \")\n",
        "cost=float(cost)\n",
        "if cost < 50000:\n",
        " tax=cost*.05\n",
        " print(\"Tax is 5% = {}\".format(tax))\n",
        "elif cost >= 50000 and cost <=100000:\n",
        " tax=cost*0.1\n",
        " print(\"Tax is 10% = {}\".format(tax))\n",
        "elif cost >100000:\n",
        " tax=cost*.15\n",
        " print(\"Tax is 15% = {}\".format(tax))"
      ],
      "execution_count": null,
      "outputs": [
        {
          "output_type": "stream",
          "text": [
            "Enter Cost Price of your Product=> 23\n",
            "Tax is 5% = 1.1500000000000001\n"
          ],
          "name": "stdout"
        }
      ]
    },
    {
      "cell_type": "markdown",
      "metadata": {
        "id": "0YFpbQIgpNGn"
      },
      "source": [
        "**Q06.** How do you perform indentation in Python?\n",
        "\n",
        "**Ans.** Python relies on indentation (whitespace at the beginning of a line) to define scope in the block of code. On the other hand, other programming languages often use curly-brackets for this purpose.\n",
        "To specify an indentation colon : will be used after if, elif, for, while statement and the block of code will be identified with the whitespaces mentioned at the beginning of the statement (In Python 4 whitespaces are appended at the beginning of the statement). \n",
        "\n",
        "**Example is as follows:**\n"
      ]
    },
    {
      "cell_type": "code",
      "metadata": {
        "colab": {
          "base_uri": "https://localhost:8080/"
        },
        "id": "PNZgv2w-pGWu",
        "outputId": "13023fe3-7240-46a9-c2a6-2db714aae766"
      },
      "source": [
        "a = 33\n",
        "b = 200\n",
        "if b > a:\n",
        "    print(\"b is greater than a\")"
      ],
      "execution_count": null,
      "outputs": [
        {
          "output_type": "stream",
          "text": [
            "b is greater than a\n"
          ],
          "name": "stdout"
        }
      ]
    },
    {
      "cell_type": "markdown",
      "metadata": {
        "id": "PJMbI74npa0Z"
      },
      "source": [
        "**Q07.** What happens if some code is not indented correctly?\n",
        "\n",
        "**Ans.** If the code is not properly / correctly indented then Python will not be able to be considered a block of code properly. It will be considered as a logical error. With Logical error, a program will run successfully but the output will not be as required. No syntax error\n",
        "\n",
        "**Q08.** What happens when the condition within the if statement evaluates to True? What happens if the condition evaluates for false?\n",
        "\n",
        "**Ans.** If the condition becomes true under if statement then the block of code under if statement will be executed and if the condition becomes false the block of code under if statement will not be executed and the control will go to the next statement after if block of code.\n",
        "\n",
        "**Q09.** How do you check if a number is even?\n",
        "\n",
        "**Ans.** Remainder Operator % will be used with condition operator == to check either a number is Even or Odd. Following code is used to verify that the number is an “Even” number.\n",
        "\n",
        "**Prgram Example is as follows:**"
      ]
    },
    {
      "cell_type": "code",
      "metadata": {
        "colab": {
          "base_uri": "https://localhost:8080/"
        },
        "id": "yEDQIOK7p083",
        "outputId": "4b450f92-31cd-4527-f059-47d5a32bd3ee"
      },
      "source": [
        "x=10\n",
        "if x%2==0:\n",
        " print(x, \" Number is even\")"
      ],
      "execution_count": null,
      "outputs": [
        {
          "output_type": "stream",
          "text": [
            "10  Number is even\n"
          ],
          "name": "stdout"
        }
      ]
    },
    {
      "cell_type": "markdown",
      "metadata": {
        "id": "46IJPGaPqBa0"
      },
      "source": [
        "**Q10.** What is the purpose of the else statement in Python?\n",
        "\n",
        "**Ans.** If the condition under “if statement” will be false then block of code under else statement will be executed.\n",
        "\n",
        "**Example:**"
      ]
    },
    {
      "cell_type": "code",
      "metadata": {
        "colab": {
          "base_uri": "https://localhost:8080/"
        },
        "id": "Sqqx57z6qNEH",
        "outputId": "3cdd1018-32c5-42ca-8e6b-41507b959a64"
      },
      "source": [
        "x=101\n",
        "if x%2==0:\n",
        " print(\"Number is even\")\n",
        "else:\n",
        " print(\"Number is NOT even\")"
      ],
      "execution_count": null,
      "outputs": [
        {
          "output_type": "stream",
          "text": [
            "Number is NOT even\n"
          ],
          "name": "stdout"
        }
      ]
    },
    {
      "cell_type": "markdown",
      "metadata": {
        "id": "9b1kmP23qSbr"
      },
      "source": [
        "**Q11.** What is the syntax of the else statement? Give an example.\n",
        "**Ans.** The syntax of else statement is as follows:\n",
        "\n",
        "    else: \n",
        "       Statement 01\n",
        "       Statement 01\n",
        "       Statement 01\n",
        "\n",
        "**Q12.** Write a program that prints different messages based on whether a number is positive or negative."
      ]
    },
    {
      "cell_type": "code",
      "metadata": {
        "colab": {
          "base_uri": "https://localhost:8080/"
        },
        "id": "HmW7CX-UqmFl",
        "outputId": "c921f302-b8d6-439e-d530-3ccf445bdcbe"
      },
      "source": [
        "x=101\n",
        "if x>0:\n",
        " print(\"Number is Positive\")\n",
        "elif x<0:\n",
        " print(\"Number is Negative\")\n",
        "else:\n",
        " print(\"Number is ZERO\")"
      ],
      "execution_count": null,
      "outputs": [
        {
          "output_type": "stream",
          "text": [
            "Number is Positive\n"
          ],
          "name": "stdout"
        }
      ]
    },
    {
      "cell_type": "markdown",
      "metadata": {
        "id": "XSwbAHsRq1dJ"
      },
      "source": [
        "**Q13.** Can the else statement be used without an if statement?\n",
        "\n",
        "**Ans.** We can’t write an else-statement without using an if-statement\n",
        "\n",
        "else:\n",
        "\n",
        " print(\"Else without an if Statement\")\n",
        "\n",
        "Error:\n",
        "\n",
        "File \"<ipython-input-7-05a4a6595ec5>\", line 1\n",
        "\n",
        "    else:\n",
        "       ^\n",
        "SyntaxError: invalid syntax\n"
      ]
    },
    {
      "cell_type": "code",
      "metadata": {
        "colab": {
          "base_uri": "https://localhost:8080/",
          "height": 137
        },
        "id": "gGGpfIz-rBai",
        "outputId": "c50993be-f7b4-424b-8494-fa24273a69c2"
      },
      "source": [
        "else:\n",
        "\n",
        " print(\"Else without an if Statement\")"
      ],
      "execution_count": null,
      "outputs": [
        {
          "output_type": "error",
          "ename": "SyntaxError",
          "evalue": "ignored",
          "traceback": [
            "\u001b[0;36m  File \u001b[0;32m\"<ipython-input-9-54544b9796af>\"\u001b[0;36m, line \u001b[0;32m1\u001b[0m\n\u001b[0;31m    else:\u001b[0m\n\u001b[0m       ^\u001b[0m\n\u001b[0;31mSyntaxError\u001b[0m\u001b[0;31m:\u001b[0m invalid syntax\n"
          ]
        }
      ]
    },
    {
      "cell_type": "markdown",
      "metadata": {
        "id": "_zvQmRSXrDZU"
      },
      "source": [
        "**Q14.** What is the purpose of the elif statement in Python?\n",
        "\n",
        "**Ans.** elif-Statement in Python is used to add more condition under \n",
        "if statement. It is the same statement as else-if statement in other languages like c, c++, java etc.\n",
        "\n",
        "**Q15** What is the syntax of the elif statement? Give an example.\n",
        "\n",
        "**Ans.** The complete syntax for if-elif-else statement is as follows:\n",
        "\n",
        "    if CONDITION:\n",
        "      STATEMENT1\n",
        "     STATEMENT2\n",
        "    elif CONDITION:\n",
        "      STATEMENT1\n",
        "      STATEMENT2\n",
        "    else:\n",
        "      STATEMENT1\n",
        "      STATEMENT2\n",
        "      \n",
        "**Q16.** Write a program that prints different messages for different months of the year.\n",
        "**Ans.** Program is as follows:"
      ]
    },
    {
      "cell_type": "code",
      "metadata": {
        "colab": {
          "base_uri": "https://localhost:8080/"
        },
        "id": "uUk-jMdkrB9m",
        "outputId": "8b43e4af-f668-42ea-a456-2c0eb0b4989c"
      },
      "source": [
        "month=input(\"Enter Name of Your Birth Month (Example: August)=> \")\n",
        "bmonth=str(month)\n",
        "if bmonth==\"January\":\n",
        " print(bmonth,\"!!! is a very cool month!\")\n",
        "elif bmonth==\"February\":\n",
        " print(bmonth,\"!!! is also a cool month!\")\n",
        "elif bmonth==\"March\":\n",
        " print(bmonth,\"!!! It's the start of the Spring Season!\")\n",
        "elif bmonth==\"April\":\n",
        " print(bmonth,\"!!! It's the Blooming Season!\")\n",
        "elif bmonth==\"May\":\n",
        " print(bmonth,\"!!! Just a start of Summer!\")\n",
        "elif bmonth==\"June\":\n",
        " print(bmonth,\"!!! It’s the hot month!\")\n",
        "elif bmonth==\"July\":\n",
        " print(bmonth,\"!!! It is too hot month!\")\n",
        "elif bmonth==\"August\":\n",
        " print(bmonth,\"!!! Start of Humidity!\")\n",
        "elif bmonth==\"September\":\n",
        " print(bmonth,\"!!! Still feels Humidity!\")\n",
        "elif bmonth==\"October\":\n",
        " print(bmonth,\"!!! Starting of Winter Season!\")\n",
        "elif bmonth==\"November\":\n",
        " print(bmonth,\"!!! Still a winter month!\")\n",
        "elif bmonth==\"December\":\n",
        " print(bmonth,\"!!! Very Very Cold month!\")\n",
        "else:\n",
        " print(bmonth,\" is a WRONG Name of Month (Example: January)\")"
      ],
      "execution_count": null,
      "outputs": [
        {
          "output_type": "stream",
          "text": [
            "Enter Name of Your Birth Month (Example: August)=> March\n",
            "March !!! It's the start of the Spring Season!\n"
          ],
          "name": "stdout"
        }
      ]
    },
    {
      "cell_type": "markdown",
      "metadata": {
        "id": "nJtfbUXgslJ_"
      },
      "source": [
        "**Q17.** Write a program that uses if, elif, and else statements together.\n",
        "\n",
        "**Ans.** The program is as follows:"
      ]
    },
    {
      "cell_type": "code",
      "metadata": {
        "colab": {
          "base_uri": "https://localhost:8080/"
        },
        "id": "KzYoIxmlsPVp",
        "outputId": "b8ec7a92-7345-4d8f-9113-84fc0dd8f381"
      },
      "source": [
        "x=10\n",
        "y=20\n",
        "if x>y:\n",
        " print(\"X is Greater than Y\")\n",
        "elif x<y:\n",
        " print(\"X is not Greater than Y\")\n",
        "else:\n",
        " print(\"Both numbers are EQUAL\")"
      ],
      "execution_count": null,
      "outputs": [
        {
          "output_type": "stream",
          "text": [
            "X is not Greater than Y\n"
          ],
          "name": "stdout"
        }
      ]
    },
    {
      "cell_type": "markdown",
      "metadata": {
        "id": "qoHMqhEvs-63"
      },
      "source": [
        "**Q18.** Can the elif statement be used without an if statement?\n",
        "\n",
        "**Ans.** We can’t use the elif statement without an if statement. A syntax error will appear if we will use an elif statement without using \n",
        "\n",
        "if statement. \n",
        "\n",
        "elif 10>5:\n",
        "\n",
        " print(\"Elif Statement without an if Statement\")\n",
        "\n",
        "    File \"<ipython-input-18-8b74e4b32dc1>\", line 1\n",
        "\n",
        "      elif:\n",
        "         ^\n",
        "    SyntaxError: invalid syntax\n",
        "\n",
        "**Q19.**Can the elif statement be used without an else statement?\n",
        "\n",
        "**Ans.** Yes elif statement can be used without using else statement provided that elif statement must contain an if statement. We can’t use an elif statement without if-statement but we can ignore else statement even using only if statement or elif statement.\n"
      ]
    },
    {
      "cell_type": "code",
      "metadata": {
        "colab": {
          "base_uri": "https://localhost:8080/"
        },
        "id": "fYN2WvFXsyh4",
        "outputId": "b11ab0e2-1ed4-4f08-bcf0-1be8995c6776"
      },
      "source": [
        "if 5>10:\n",
        " print(\"5 is Greater than 10\")\n",
        "elif 10>5:\n",
        " print(\"10 is Greater than 5\")"
      ],
      "execution_count": null,
      "outputs": [
        {
          "output_type": "stream",
          "text": [
            "10 is Greater than 5\n"
          ],
          "name": "stdout"
        }
      ]
    },
    {
      "cell_type": "markdown",
      "metadata": {
        "id": "uZk4v8lXw4Ss"
      },
      "source": [
        "**Q.20** What is the difference between a chain of if, elif, elif… statements and a chain of if, if, if… statements? Give an example.\n",
        "\n",
        "**Ans.** Both chain if, elif, elif… statements and chain of if, if, if statements are used to manage and control multiple conditions. \n",
        "The main difference is that in the chain of if, elif, elif… statements will continue to evaluate all the conditions till a condition comes TRUE and the other conditions after this condition will not be evaluated.\n",
        "\n",
        "On the other hand in the chain of if, if, if… statements all the conditions will be executed even all are TRUE or FALSE. \n",
        "We will use chain of if, if, if… statement if more than one conditions can be true at the same time and we will use chain of if, elif, elif… statements if one of all statement will comes TRUE and the other will be FALSE. \n",
        "\n",
        "**Q21.** Can non-boolean conditions be used with if statements? Give some examples.\n",
        "**Ans.** Yes a non boolean statement can be used with if-statement but Python will automatically convert it to TRUE or FALSE based on the predefined rules in Python. \n",
        "\n",
        "**The example is as follows:**\n"
      ]
    },
    {
      "cell_type": "code",
      "metadata": {
        "colab": {
          "base_uri": "https://localhost:8080/"
        },
        "id": "c0Xp3moUy_Et",
        "outputId": "f404ae12-e1f4-40c7-a249-1c75d0f5c196"
      },
      "source": [
        "if \"Pakistan\":\n",
        " print(\"Condition is TRUE\")\n",
        "else:\n",
        " print(\"Condition is FALSE\")"
      ],
      "execution_count": null,
      "outputs": [
        {
          "output_type": "stream",
          "text": [
            "Condition is TRUE\n"
          ],
          "name": "stdout"
        }
      ]
    },
    {
      "cell_type": "markdown",
      "metadata": {
        "id": "zAvWQe-Q1EB-"
      },
      "source": [
        "**Q22.** What are nested conditional statements? How are they useful?\n",
        "\n",
        "**Ans.** Condition within another condition is called a nested conditional statement. The condition in nested if-statements will be executed only if the condition mentioned in the outer if-statement will come true. \n",
        "\n",
        "**Q23.** Give an example of nested conditional statements.\n",
        "**Ans.** The example is as follows:"
      ]
    },
    {
      "cell_type": "code",
      "metadata": {
        "colab": {
          "base_uri": "https://localhost:8080/"
        },
        "id": "XU-Mef1d1Qvz",
        "outputId": "931118c1-8376-43b1-ef5a-76d39465f269"
      },
      "source": [
        "# Even or Odd for Positive Number\n",
        "x=input(\"Enter any Number => \")\n",
        "x=int(float(x))\n",
        "if x>=0:\n",
        " if x%2==0:\n",
        "   print(x,\" is a Positive and EVEN Number\")\n",
        " else:\n",
        "   print(x,\" is a Positive and ODD Number\")\n",
        "else:\n",
        " print(x,\" is a Negative Number\")"
      ],
      "execution_count": null,
      "outputs": [
        {
          "output_type": "stream",
          "text": [
            "Enter any Number => 23\n",
            "23  is a Positive and ODD Number\n"
          ],
          "name": "stdout"
        }
      ]
    },
    {
      "cell_type": "markdown",
      "metadata": {
        "id": "58ASEfod1Xy0"
      },
      "source": [
        "**Q24.** Why is it advisable to avoid nested conditional statements?\n",
        "\n",
        "**Ans.** The chain of if, elif, elif… statement is more powerful and efficient than ehe nested if-conditional statements are more complicated. So it is recommended to avoid using nested conditional statements.\n",
        "\n",
        "**Q25.** What is the shorthand if-conditional expression?\n",
        "\n",
        "**Ans.** One statement using an if-else statement with its own syntax in a short form is called shorthand if-condition expression. The syntax is as follows:\n",
        "\n",
        "**TRUE-Statement if Condition else FALSE-Statement**\n",
        "\n",
        "**The example is as follows.**"
      ]
    },
    {
      "cell_type": "code",
      "metadata": {
        "colab": {
          "base_uri": "https://localhost:8080/"
        },
        "id": "GClwBkdz2HdR",
        "outputId": "f058b35a-8b5d-4475-e0dc-439613675fb6"
      },
      "source": [
        "a = 2\n",
        "b = 330\n",
        "print(\"A is greater than B\") if a > b else print(\"B is greater than A\")"
      ],
      "execution_count": null,
      "outputs": [
        {
          "output_type": "stream",
          "text": [
            "B is greater than A\n"
          ],
          "name": "stdout"
        }
      ]
    },
    {
      "cell_type": "markdown",
      "metadata": {
        "id": "YrdZF_3e2TH4"
      },
      "source": [
        "**Q26.** What is the syntax of the shorthand if-conditional expression? Give an example.\n",
        "\n",
        "**Ans.** The syntax is as follows:\n",
        "\n",
        "**TRUE-Statement if Condition else FALSE-Statement**\n",
        "\n",
        "**Q27.** What is the difference between the shorthand if-expression and the regular if statement?\n",
        "\n",
        "**Ans.** Shorthand if-statement is used where one condition is required to evaluate. It is a short form of if-else statement where on estatement based on the condition will be executed. There is no major difference, only the syntax.\n",
        "We can also use multiple-else statements in the same line as well.\n"
      ]
    },
    {
      "cell_type": "code",
      "metadata": {
        "colab": {
          "base_uri": "https://localhost:8080/"
        },
        "id": "mPC2bCnL2u6S",
        "outputId": "60019976-1ec0-40bb-f56b-5f2da1a7a93b"
      },
      "source": [
        "a = 331\n",
        "b = 332\n",
        "print(\"A\") if a > b else print(\"=\") if a == b else print(\"B\")"
      ],
      "execution_count": null,
      "outputs": [
        {
          "output_type": "stream",
          "text": [
            "B\n"
          ],
          "name": "stdout"
        }
      ]
    },
    {
      "cell_type": "markdown",
      "metadata": {
        "id": "3Q05urg_25c8"
      },
      "source": [
        "**Q28.** What is a statement in Python?\n",
        "**Ans.** A statement is an instruction in the program to do something that the Python interpreter can execute.\n",
        "\n",
        "**Q29.**What is an expression in Python?\n",
        "\n",
        "**Ans.** Expressions are representations of value. They are different from statements in the fact that statements do something while expressions are representation of value. For example, any string is also an expression since it represents the value of the string as well.\n",
        "“This is My First Program in Python” is an example of expression in Python. The Following are also examples in Python.\n",
        "\n",
        "**Mathematical Expression:**\n",
        "\n",
        "X = 10 + 30\n",
        "\n",
        "Ans = a + b - c / e * f\n",
        "\n",
        "**Logical Expression:**\n",
        "\n",
        "Y = 10 > 30\n",
        "\n",
        "Z = 10 % 2 == 0\n",
        "\n",
        "**Q30.** What is the difference between statements and expressions?\n",
        "\n",
        "**Ans.** A statement is used to do something. Statements represent an action or command in the program e.g print statements, assignment statements. \n",
        "\n",
        "On the other hand, An Expression is a combination of variables, operations and values that yields a result value. \n",
        "**Mathematical Expression:**\n",
        "\n",
        "X = 10 + 30\n",
        "\n",
        "Ans = a + b - c / e * f\n",
        "\n",
        "**Logical Expression:**\n",
        "\n",
        "Y = 10 > 30\n",
        "\n",
        "Z = 10 % 2 == 0\n",
        "\n",
        "**Q31.** Is every statement an expression? Give an example or counterexample.\n",
        "**Ans.** No, every statement is not an expression because an expression must return a value but every statement will not return a value. \n",
        "An expression is something, while a statement does something. An expression is a statement as well, but it must have a return.\n",
        "\n",
        "**Q32.** Is every expression a statement? Give an example or counterexample.\n",
        "\n",
        "**Ans.** Yes, every expression is a statement because an expression is also a statement and it must return a value.\n",
        "\n",
        "**Q33.** What is the purpose of the pass statement in if blocks?\n",
        "\n",
        "**Ans.** The pass statement in Python is used when a statement is required inside the block but you do not want any action against TRUE/FALSE condition. The pass statement is a null operation; nothing happens when it executes. It Passes the control to the next block of statement without doing anything.\n",
        "\n",
        "**Q34.** What is iteration or looping in programming languages? Why is it useful?\n",
        "\n",
        "**Ans.** Loops are used to execute a statement of block of statements repeatedly based on the condition or for a fixed number of times. There are two types of loops in Python programming language and these are as follows:\n",
        "1. for loop\n",
        "2. while loop\n",
        " \n",
        "**Q35.** What are the two ways for performing iteration in Python?\n",
        "\n",
        "**Ans.** There are two different ways for performing iteration in the Python programming language. One is based on the number of fixed time for iteration and the other one based on the condition. These are as follows:\n",
        "\n",
        "1. for loop (Counter Loop based on the number of times to be repeated)\n",
        "2. while loop (Conditional Loop based on the condition of the loop)\n",
        " \n",
        "**Q36.** What is the purpose of the while statement in Python?\n",
        "\n",
        "**Ans.** The While-Loop Statement is used to repeat a statement of set of statements until the condition of the loop becomes true.\n",
        "The while loop is somewhat similar to an if statement, it executes the code inside, if the condition is True. However, as opposed to the if statement, the while loop continues to execute the code repeatedly as long as the condition is True.\n",
        "\n",
        "    While Condition:\n",
        "\n",
        "        Block of Statements / Expression\n"
      ]
    },
    {
      "cell_type": "code",
      "metadata": {
        "colab": {
          "base_uri": "https://localhost:8080/"
        },
        "id": "FcF0s-4J59am",
        "outputId": "a6c034e0-adf7-4f6e-dfdd-dbddb1f7699c"
      },
      "source": [
        "# Program to add natural\n",
        "# numbers up Nth Number\n",
        "# sum = 1+2+3+...+n\n",
        "# To take input from the user,\n",
        "n = int(input(\"Enter n: \"))\n",
        "# n = 10\n",
        "# initialize sum and counter\n",
        "sum = 0\n",
        "i = 1\n",
        "while i <= n:\n",
        "   sum = sum + i\n",
        "   i = i + 1    # update counter\n",
        "# print the sum\n",
        "print(\"The sum is\", sum)"
      ],
      "execution_count": null,
      "outputs": [
        {
          "output_type": "stream",
          "text": [
            "Enter n: 12\n",
            "The sum is 78\n"
          ],
          "name": "stdout"
        }
      ]
    },
    {
      "cell_type": "markdown",
      "metadata": {
        "id": "_h58pmzf6KID"
      },
      "source": [
        "**Q37.** What is the syntax of the white statement in Python? Give an example.\n",
        "**Ans.** The Syntax of while-loop statement is as follows:\n",
        "\n",
        "    While Condition:\n",
        "      Block of Statements / Expression\n",
        "\n",
        "**Q38.** Write a program to compute the sum of the numbers 1 to 100 using a while loop.\n",
        "**Ans.** The Program Example is as follows:\n"
      ]
    },
    {
      "cell_type": "code",
      "metadata": {
        "colab": {
          "base_uri": "https://localhost:8080/"
        },
        "id": "OR6yGxS06eSQ",
        "outputId": "6338c8c2-eb5b-44d3-b019-04883682383f"
      },
      "source": [
        "# Program to add 100 natural\n",
        "# numbers up 100 Number\n",
        "# sum = 1+2+3+...+ 100\n",
        "# To take input from the user,\n",
        "n = 100\n",
        "# initialize sum and counter\n",
        "sum = 0\n",
        "i = 1\n",
        "while i <= n:\n",
        "   sum = sum + i\n",
        "   i = i + 1    # update counter\n",
        "# print the sum\n",
        "print(\"The sum is\", sum)"
      ],
      "execution_count": null,
      "outputs": [
        {
          "output_type": "stream",
          "text": [
            "The sum is 5050\n"
          ],
          "name": "stdout"
        }
      ]
    },
    {
      "cell_type": "markdown",
      "metadata": {
        "id": "JS9A7HR-6kL1"
      },
      "source": [
        "**Q40.** Repeat the above program for numbers up to 1000, 10000, and 100000. How long does it take each loop to complete?\n",
        "**Ans.** There is only a small change to upgrade this loop to execute for 1000, 10000 and 100000 times. The remaining program will remain the same and the change is as follows:\n",
        "n = 100\n",
        "n = 1000\n",
        "n = 10000\n",
        "n = 100000 \n"
      ]
    },
    {
      "cell_type": "code",
      "metadata": {
        "colab": {
          "base_uri": "https://localhost:8080/"
        },
        "id": "FyYjryaJ610C",
        "outputId": "8b773894-238a-46a9-b862-4cc05e489948"
      },
      "source": [
        "# Program to add 1000 natural\n",
        "# numbers up 100 Number\n",
        "# sum = 1+2+3+...+ 1000\n",
        "# To take input from the user,\n",
        "n = 1000\n",
        "# initialize sum and counter\n",
        "sum = 0\n",
        "i = 1\n",
        "while i <= n:\n",
        "   sum = sum + i\n",
        "   i = i + 1    # update counter\n",
        "# print the sum\n",
        "print(\"The sum is\", sum)"
      ],
      "execution_count": null,
      "outputs": [
        {
          "output_type": "stream",
          "text": [
            "The sum is 500500\n"
          ],
          "name": "stdout"
        }
      ]
    },
    {
      "cell_type": "code",
      "metadata": {
        "colab": {
          "base_uri": "https://localhost:8080/"
        },
        "id": "t7-ERVk265ex",
        "outputId": "2e03a84f-aeac-42be-e133-354b6d6fb42f"
      },
      "source": [
        "# Program to add 10000 natural\n",
        "# numbers up 10000 Number\n",
        "# sum = 1+2+3+...+ 10000\n",
        "# To take input from the user,\n",
        "n = 10000\n",
        "# initialize sum and counter\n",
        "sum = 0\n",
        "i = 1\n",
        "while i <= n:\n",
        "   sum = sum + i\n",
        "   i = i + 1    # update counter\n",
        "# print the sum\n",
        "print(\"The sum is\", sum)"
      ],
      "execution_count": null,
      "outputs": [
        {
          "output_type": "stream",
          "text": [
            "The sum is 50005000\n"
          ],
          "name": "stdout"
        }
      ]
    },
    {
      "cell_type": "code",
      "metadata": {
        "colab": {
          "base_uri": "https://localhost:8080/"
        },
        "id": "EWfMBx5H692Y",
        "outputId": "5d5b7270-da36-4fef-aab5-6a7c126db7a7"
      },
      "source": [
        "# Program to add 100000 natural\n",
        "# numbers up 100000 Number\n",
        "# sum = 1+2+3+...+ 100000\n",
        "# To take input from the user,\n",
        "n = 100000\n",
        "# initialize sum and counter\n",
        "sum = 0\n",
        "i = 1\n",
        "while i <= n:\n",
        "   sum = sum + i\n",
        "   i = i + 1    # update counter\n",
        "# print the sum\n",
        "print(\"The sum is\", sum)"
      ],
      "execution_count": null,
      "outputs": [
        {
          "output_type": "stream",
          "text": [
            "The sum is 5000050000\n"
          ],
          "name": "stdout"
        }
      ]
    },
    {
      "cell_type": "markdown",
      "metadata": {
        "id": "CvN99xaN7C2v"
      },
      "source": [
        "**Q40.** What is an infinite loop?\n",
        "\n",
        "**Ans.** Infinite loop is a loop which will never stop. \n"
      ]
    },
    {
      "cell_type": "code",
      "metadata": {
        "id": "M3ZVAdxI7A7j"
      },
      "source": [
        "i = 0\n",
        "while i<=10:\n",
        "   print(i)"
      ],
      "execution_count": null,
      "outputs": []
    },
    {
      "cell_type": "markdown",
      "metadata": {
        "id": "rq42JQUy7jcw"
      },
      "source": [
        "**Q41.** What causes a program to enter an infinite loop?\n",
        "\n",
        "**Ans.** As we know the loop executes the block of code till the condition of the loop becomes FALSE. The major cause of infinite loop is that the condition in the loop will always comes TRUE either by logical error or conditions \n",
        "\n",
        "**Q43.** How do you interrupt an infinite loop within Jupyter?\n",
        "\n",
        "**Ans.** By pressing the STOP button from the left top corner of the program code.\n",
        "\n",
        "**Q44.** What is the purpose of the break statement in Python?\n",
        "\n",
        "**Ans.** The Break-Statement is used to break the execution of the block; either the condition is true or false. \n",
        "\n",
        "**Q45.** Give an example of using a break statement within a while loop.\n",
        "\n",
        "**Ans.** The program example is as follows:\n"
      ]
    },
    {
      "cell_type": "code",
      "metadata": {
        "colab": {
          "base_uri": "https://localhost:8080/"
        },
        "id": "SWKPYcDO-u_o",
        "outputId": "fd9ce26c-8a93-4f21-e970-f245e34f80d2"
      },
      "source": [
        "i = 0\n",
        "while i<=10:\n",
        "   print(i)\n",
        "   i+=1\n",
        "   if i>5:\n",
        "     break\n",
        "print(\"Using BREAK Statement, Loop break at \",i)"
      ],
      "execution_count": null,
      "outputs": [
        {
          "output_type": "stream",
          "text": [
            "0\n",
            "1\n",
            "2\n",
            "3\n",
            "4\n",
            "5\n",
            "Using BREAK Statement, Loop break at  6\n"
          ],
          "name": "stdout"
        }
      ]
    },
    {
      "cell_type": "markdown",
      "metadata": {
        "id": "CW4bKTiUDvzW"
      },
      "source": [
        "**Q45.** What is the purpose of the continue statement in Python?\n",
        "\n",
        "**Ans.** The Continue-Statement is used to send the control at the beginning of the loop. The statements in the same block after continue-statement will not be executed. The continue statement can be used in both while and for loops.\n",
        "\n",
        "**Q46.** Give an example of using the continue statement within a while loop.\n",
        "\n",
        "**Ans.** The Program example is as follows:"
      ]
    },
    {
      "cell_type": "code",
      "metadata": {
        "colab": {
          "base_uri": "https://localhost:8080/"
        },
        "id": "MnHBwTDwBJ66",
        "outputId": "55b0227a-cd79-4f2a-a571-d8b5cf176980"
      },
      "source": [
        "i = 1\n",
        "while i<=10:\n",
        "   print(i)\n",
        "   i+=1\n",
        "   ans=input(\"Do you want to Continue Yes/No => \")\n",
        "   if ans.lower() == 'yes' or ans.lower() == 'y':\n",
        "     print(\"Loop Continue using CONTINUE Statement\")\n",
        "     continue\n",
        "   elif ans.lower() == 'no' or ans.lower() == 'n':\n",
        "     break\n",
        "   else:\n",
        "     print(\"Invalid Input, Please press Yes/No or Y/N\")\n",
        "     continue\n",
        "\n",
        "print(\"Using BREAK Statement, Loop break at \",i)"
      ],
      "execution_count": null,
      "outputs": [
        {
          "output_type": "stream",
          "text": [
            "1\n",
            "Do you want to Continue Yes/No => Y\n",
            "Loop Continue using CONTINUE Statement\n",
            "2\n",
            "Do you want to Continue Yes/No => 3\n",
            "Please press Yes/No or Y/N\n",
            "3\n",
            "Do you want to Continue Yes/No => n\n",
            "Using BREAK Statement, Loop break at  4\n"
          ],
          "name": "stdout"
        }
      ]
    }
  ]
}